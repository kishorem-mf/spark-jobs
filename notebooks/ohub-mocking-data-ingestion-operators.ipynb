{
 "cells": [
  {
   "cell_type": "code",
   "execution_count": null,
   "metadata": {
    "collapsed": true
   },
   "outputs": [],
   "source": [
    "import os"
   ]
  },
  {
   "cell_type": "markdown",
   "metadata": {},
   "source": [
    "# Mocking data for ingestion job of operators\n",
    "\n",
    "For siplicity the code is written for only two countries: DK and NL"
   ]
  },
  {
   "cell_type": "code",
   "execution_count": null,
   "metadata": {
    "collapsed": true
   },
   "outputs": [],
   "source": [
    "country_codes = {'DK', 'NL'}"
   ]
  },
  {
   "cell_type": "code",
   "execution_count": null,
   "metadata": {
    "collapsed": true
   },
   "outputs": [],
   "source": [
    "import findspark\n",
    "findspark.init()\n",
    "\n",
    "from pyspark.sql import SparkSession\n",
    "\n",
    "spark = (\n",
    "    SparkSession\n",
    "    .builder\n",
    "    .appName(\"NameMatching_Notebook\")\n",
    "    .config('spark.dynamicAllocation.enabled', False)\n",
    "    .config('spark.executorEnv.PYTHON_EGG_CACHE', '/tmp')\n",
    "    .config('spark.executor.instances', 4)\n",
    "    .config('spark.executor.cores', 13)\n",
    "    .config('spark.executor.memory', '14g')\n",
    "    .config('spark.driver.memory', '7g')\n",
    "    .getOrCreate()\n",
    ")\n",
    "sc = spark.sparkContext"
   ]
  },
  {
   "cell_type": "code",
   "execution_count": null,
   "metadata": {
    "collapsed": true
   },
   "outputs": [],
   "source": [
    "import pyspark.sql.functions as sf"
   ]
  },
  {
   "cell_type": "markdown",
   "metadata": {},
   "source": [
    "## Mock current operator data\n",
    "\n",
    "This will consist of only 5% of the current data."
   ]
  },
  {
   "cell_type": "code",
   "execution_count": null,
   "metadata": {
    "collapsed": false
   },
   "outputs": [],
   "source": [
    "operators_old_dir = 'adl://ulohubdldevne.azuredatalakestore.net/data/parquet/'\n",
    "test_output_dir = 'adl://ulohubdldevne.azuredatalakestore.net/data/parquet/test/'\n",
    "\n",
    "oprs_old = (spark\n",
    ".read.parquet(operators_old_dir + 'OPERATORS_MERGED.parquet')\n",
    ".sample(False, 0.05)\n",
    ".filter(sf.col('countryCode').isin(country_codes)))\n",
    "            \n",
    "(oprs_old\n",
    " .write\n",
    ".partitionBy('countryCode')\n",
    ".parquet(test_output_dir + 'OPERATORS_MERGED.parquet', mode='overwrite'))"
   ]
  },
  {
   "cell_type": "code",
   "execution_count": null,
   "metadata": {
    "collapsed": false
   },
   "outputs": [],
   "source": [
    "spark.read.parquet(test_output_dir + 'OPERATORS_MERGED.parquet').groupby('countryCode').count().show()"
   ]
  },
  {
   "cell_type": "code",
   "execution_count": null,
   "metadata": {
    "collapsed": true
   },
   "outputs": [],
   "source": [
    "oprs_old = oprs_old.withColumn('id', sf.explode(sf.col('refIds')))"
   ]
  },
  {
   "cell_type": "markdown",
   "metadata": {},
   "source": [
    "## Mock input data as 1% from original"
   ]
  },
  {
   "cell_type": "code",
   "execution_count": null,
   "metadata": {
    "collapsed": false
   },
   "outputs": [],
   "source": [
    "# read operators and assign id\n",
    "operators_matched_dir = 'adl://ulohubdldevne.azuredatalakestore.net/data/parquet/'\n",
    "test_output_dir = 'adl://ulohubdldevne.azuredatalakestore.net/data/parquet/test/'\n",
    "\n",
    "input_oprs_raw = (spark\n",
    ".read.parquet(operators_matched_dir + 'OPERATORS.parquet')\n",
    ".sample(False, 0.01)\n",
    ".filter(sf.col('COUNTRY_CODE').isin(country_codes)))"
   ]
  },
  {
   "cell_type": "markdown",
   "metadata": {},
   "source": [
    "Check for overlap and alter some records"
   ]
  },
  {
   "cell_type": "code",
   "execution_count": null,
   "metadata": {
    "collapsed": false
   },
   "outputs": [],
   "source": [
    "input_oprs = (\n",
    "    input_oprs_raw\n",
    "    .withColumn('id', sf.concat_ws('~',\n",
    "                                   sf.col('COUNTRY_CODE'),\n",
    "                                   sf.col('SOURCE'),\n",
    "                                   sf.col('REF_OPERATOR_ID')))\n",
    ")"
   ]
  },
  {
   "cell_type": "code",
   "execution_count": null,
   "metadata": {
    "collapsed": false
   },
   "outputs": [],
   "source": [
    "df = input_oprs.join(oprs_old, on='id', how='left')\n",
    "df.persist()\n",
    "\n",
    "print('Known Operators:', oprs_old.count())\n",
    "print('Input Operators:', df.count())\n",
    "print('Input Known:', df.filter(sf.col('ohubOperatorId').isNotNull()).count())\n",
    "print('Input New:', df.filter(sf.col('ohubOperatorId').isNull()).count())"
   ]
  },
  {
   "cell_type": "markdown",
   "metadata": {},
   "source": [
    "10% of the already known operators will be altered on the `STREET_CLEANSED`"
   ]
  },
  {
   "cell_type": "code",
   "execution_count": null,
   "metadata": {
    "collapsed": false
   },
   "outputs": [],
   "source": [
    "df_altered = df.withColumn('STREET_CLEANSED', sf.when(sf.col('ohubOperatorId').isNotNull() & (sf.rand(seed=0) < 0.1), 'street_changed').otherwise(sf.col('STREET_CLEANSED')))\n",
    "df_altered.persist();"
   ]
  },
  {
   "cell_type": "code",
   "execution_count": null,
   "metadata": {
    "collapsed": false,
    "scrolled": true
   },
   "outputs": [],
   "source": [
    "print('Known Operators:', oprs_old.count())\n",
    "print('Input Operators:', df_altered.count())\n",
    "print('Input Known:', df_altered.filter(sf.col('ohubOperatorId').isNotNull()).count())\n",
    "print('Input Known Equal:', df_altered.filter(sf.col('ohubOperatorId').isNotNull() &\n",
    "                                              (sf.col('STREET_CLEANSED').isNull() | (sf.col('STREET_CLEANSED') != 'street_changed'))).count())\n",
    "print('Input Known Changed:', df_altered.filter(sf.col('ohubOperatorId').isNotNull() & (sf.col('STREET_CLEANSED') == 'street_changed')).count())\n",
    "print('Input New:', df_altered.filter(sf.col('ohubOperatorId').isNull()).count())"
   ]
  },
  {
   "cell_type": "code",
   "execution_count": null,
   "metadata": {
    "collapsed": true
   },
   "outputs": [],
   "source": [
    "(df_altered.select(input_oprs_raw.columns)\n",
    " .write\n",
    " .partitionBy('COUNTRY_CODE')\n",
    " .parquet(test_output_dir + 'OPERATORS.parquet', mode='overwrite'))"
   ]
  },
  {
   "cell_type": "code",
   "execution_count": null,
   "metadata": {
    "collapsed": false
   },
   "outputs": [],
   "source": [
    "spark.read.parquet(test_output_dir + 'OPERATORS.parquet').groupby('COUNTRY_CODE').count().show()"
   ]
  },
  {
   "cell_type": "code",
   "execution_count": null,
   "metadata": {
    "collapsed": true
   },
   "outputs": [],
   "source": []
  },
  {
   "cell_type": "code",
   "execution_count": null,
   "metadata": {
    "collapsed": false
   },
   "outputs": [],
   "source": [
    "array = np.random.randint(0, 1E5, size=10000, dtype='int')\n",
    "%timeit max(array)\n",
    "%timeit np.max(array)\n",
    "%timeit array.max()"
   ]
  },
  {
   "cell_type": "code",
   "execution_count": null,
   "metadata": {
    "collapsed": true
   },
   "outputs": [],
   "source": [
    "bool_array = np.ones(10000, dtype=np.bool)\n",
    "%timeit any(bool_array)\n",
    "%timeit np.any(bool_array, keepdims=False)\n",
    "%timeit bool_array.any(keepdims=False)"
   ]
  },
  {
   "cell_type": "code",
   "execution_count": null,
   "metadata": {
    "collapsed": true
   },
   "outputs": [],
   "source": [
    "bool_array = np.zeros(10000, dtype=np.bool)\n",
    "%timeit any(bool_array)\n",
    "%timeit np.any(bool_array, keepdims=False)\n",
    "%timeit bool_array.any(keepdims=False)"
   ]
  },
  {
   "cell_type": "code",
   "execution_count": null,
   "metadata": {
    "collapsed": true
   },
   "outputs": [],
   "source": []
  }
 ],
 "metadata": {
  "anaconda-cloud": {},
  "kernelspec": {
   "display_name": "Python 3",
   "language": "python",
   "name": "python3"
  },
  "language_info": {
   "codemirror_mode": {
    "name": "ipython",
    "version": 3
   },
   "file_extension": ".py",
   "mimetype": "text/x-python",
   "name": "python",
   "nbconvert_exporter": "python",
   "pygments_lexer": "ipython3",
   "version": "3.5.2"
  }
 },
 "nbformat": 4,
 "nbformat_minor": 1
}
