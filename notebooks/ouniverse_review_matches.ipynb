{
 "cells": [
  {
   "cell_type": "code",
   "execution_count": null,
   "metadata": {},
   "outputs": [],
   "source": [
    "import numpy as np\n",
    "import pandas as pd\n",
    "\n",
    "from glob import glob"
   ]
  },
  {
   "cell_type": "code",
   "execution_count": null,
   "metadata": {},
   "outputs": [],
   "source": [
    "pd.set_option('display.max_colwidth', -1)"
   ]
  },
  {
   "cell_type": "code",
   "execution_count": null,
   "metadata": {},
   "outputs": [],
   "source": [
    "# point to directory with csv files data\n",
    "matching_files = glob('../../data/matching_phase1vsphase2/*.csv')\n",
    "matching_files"
   ]
  },
  {
   "cell_type": "code",
   "execution_count": null,
   "metadata": {},
   "outputs": [],
   "source": [
    "matching_opr = pd.concat(pd.read_csv(file, index_col=False) for file in matching_files)\n",
    "matching_opr.sample(10)"
   ]
  },
  {
   "cell_type": "markdown",
   "metadata": {},
   "source": [
    "Total number of operators per country"
   ]
  },
  {
   "cell_type": "code",
   "execution_count": null,
   "metadata": {},
   "outputs": [],
   "source": [
    "df = matching_opr.groupby('COUNTRY_CODE')[['name_phase1', 'placeId']].agg(['count'])\n",
    "df.columns = ['total_nr_oprs', 'nr_matches']\n",
    "df['percent_matched'] = 100 * df.nr_matches / df.total_nr_oprs\n",
    "df"
   ]
  },
  {
   "cell_type": "markdown",
   "metadata": {},
   "source": [
    "Average of all similarities found per country"
   ]
  },
  {
   "cell_type": "code",
   "execution_count": null,
   "metadata": {},
   "outputs": [],
   "source": [
    "matching_opr.dropna(subset=['SIMILARITY']).groupby('COUNTRY_CODE').mean()"
   ]
  },
  {
   "cell_type": "markdown",
   "metadata": {},
   "source": [
    "Average of top similarities per operator per country"
   ]
  },
  {
   "cell_type": "code",
   "execution_count": null,
   "metadata": {},
   "outputs": [],
   "source": [
    "(matching_opr\n",
    " .dropna(subset=['SIMILARITY'])\n",
    " .sort_values('SIMILARITY', ascending=False)\n",
    " .drop_duplicates('name_phase1', keep='first')\n",
    " .groupby('COUNTRY_CODE')\n",
    " .mean())"
   ]
  },
  {
   "cell_type": "code",
   "execution_count": null,
   "metadata": {},
   "outputs": [],
   "source": [
    "def get_batch_matches(matching_output, country_code, nr_operators=100, only_matches=True, threshold=.7, only_highest=False, columns=None, ascending=False):\n",
    "\n",
    "    df = matching_output.loc[(matching_output.COUNTRY_CODE == country_code) & (matching_output.SIMILARITY >= threshold)]\n",
    "    if only_matches:\n",
    "        names = df.dropna(axis=0, subset=['placeId']).name_phase1.unique()\n",
    "    else:\n",
    "        names = df.name_phase1.unique()\n",
    "    \n",
    "    names = np.random.choice(names, size=nr_operators, replace=False)\n",
    "        \n",
    "    columns = columns or ['name_phase1', 'name_phase2', 'SIMILARITY']\n",
    "    df = df.loc[df.name_phase1.isin(names), columns]\n",
    "    if only_highest:\n",
    "        df = (df\n",
    "              .sort_values('SIMILARITY', ascending=False)\n",
    "              .drop_duplicates('name_phase1', keep='first'))\n",
    "    return df.sort_values(by=['name_phase1', 'SIMILARITY'], ascending=ascending)"
   ]
  },
  {
   "cell_type": "code",
   "execution_count": null,
   "metadata": {
    "scrolled": false
   },
   "outputs": [],
   "source": [
    "batch_opr = get_batch_matches(matching_opr, 'NZ', nr_operators=10, only_highest=True)\n",
    "batch_opr.describe()"
   ]
  },
  {
   "cell_type": "code",
   "execution_count": null,
   "metadata": {},
   "outputs": [],
   "source": [
    "batch_opr"
   ]
  },
  {
   "cell_type": "code",
   "execution_count": null,
   "metadata": {},
   "outputs": [],
   "source": []
  }
 ],
 "metadata": {
  "kernelspec": {
   "display_name": "Python [conda env:unilever]",
   "language": "python",
   "name": "conda-env-unilever-py"
  },
  "language_info": {
   "codemirror_mode": {
    "name": "ipython",
    "version": 3
   },
   "file_extension": ".py",
   "mimetype": "text/x-python",
   "name": "python",
   "nbconvert_exporter": "python",
   "pygments_lexer": "ipython3",
   "version": "3.6.4"
  }
 },
 "nbformat": 4,
 "nbformat_minor": 2
}
