{
 "cells": [
  {
   "cell_type": "markdown",
   "metadata": {},
   "source": [
    "# Geolocation Matching"
   ]
  },
  {
   "cell_type": "code",
   "execution_count": null,
   "metadata": {},
   "outputs": [],
   "source": [
    "import numpy as np\n",
    "import pandas as pd\n",
    "\n",
    "pd.set_option('display.max_colwidth', -1)"
   ]
  },
  {
   "cell_type": "code",
   "execution_count": null,
   "metadata": {},
   "outputs": [],
   "source": [
    "country_code = 'AR'"
   ]
  },
  {
   "cell_type": "markdown",
   "metadata": {},
   "source": [
    "## Data ingestion"
   ]
  },
  {
   "cell_type": "markdown",
   "metadata": {},
   "source": [
    "**Raw operator data**"
   ]
  },
  {
   "cell_type": "code",
   "execution_count": null,
   "metadata": {},
   "outputs": [],
   "source": [
    "opr_geo_raw = pd.read_csv('../../data/Phase_I/Phase_I_Input/AR_geolocation.csv', sep=';', encoding = 'latin1')\n",
    "print(opr_geo_raw.shape)\n",
    "opr_geo_raw.head().T"
   ]
  },
  {
   "cell_type": "markdown",
   "metadata": {},
   "source": [
    "**Cleaned operator data**"
   ]
  },
  {
   "cell_type": "code",
   "execution_count": null,
   "metadata": {},
   "outputs": [],
   "source": [
    "keep_columns = ['Distribuidor', 'Cliente', 'lat', 'lng']"
   ]
  },
  {
   "cell_type": "code",
   "execution_count": null,
   "metadata": {},
   "outputs": [],
   "source": [
    "opr_geo = pd.read_csv('../../data/Phase_I/Phase_I_Input/AR_sample.csv', sep=';').rename(columns={'Latitud': 'lat', 'Longitud': 'lng'})[keep_columns]\n",
    "print(opr_geo.shape)\n",
    "opr_geo.head()"
   ]
  },
  {
   "cell_type": "markdown",
   "metadata": {},
   "source": [
    "**Google places data**"
   ]
  },
  {
   "cell_type": "code",
   "execution_count": null,
   "metadata": {},
   "outputs": [],
   "source": [
    "keep_columns = ['inputCountry', 'formattedAddress', 'formattedPhoneNumber', 'inputCity', 'inputKeyword', 'lat', 'lng', 'name', 'outputCountry', 'outputPostalCode', 'placeId']"
   ]
  },
  {
   "cell_type": "code",
   "execution_count": null,
   "metadata": {},
   "outputs": [],
   "source": [
    "opr_google = pd.read_csv('../../data/Phase_II/Phase_II_Output/OPR_ids_details.csv', sep=',')\n",
    "opr_google = opr_google.loc[opr_google.inputCountry == country_code, keep_columns].drop_duplicates(subset=['placeId'])\n",
    "print(opr_google.shape)\n",
    "opr_google.sample(10)"
   ]
  },
  {
   "cell_type": "markdown",
   "metadata": {},
   "source": [
    "## Match using latitude and longitude"
   ]
  },
  {
   "cell_type": "code",
   "execution_count": null,
   "metadata": {},
   "outputs": [],
   "source": [
    "opr_geo.dtypes"
   ]
  },
  {
   "cell_type": "code",
   "execution_count": null,
   "metadata": {},
   "outputs": [],
   "source": [
    "opr_google.dtypes"
   ]
  },
  {
   "cell_type": "markdown",
   "metadata": {},
   "source": [
    "**Retrieve closest observation based on geolocation**"
   ]
  },
  {
   "cell_type": "code",
   "execution_count": null,
   "metadata": {},
   "outputs": [],
   "source": [
    "def match_geolocations(row, keep_columns=None):\n",
    "    keep_columns = keep_columns or ['lat', 'lng', 'formattedAddress', 'outputCountry', 'name', 'placeId']\n",
    "    diff = np.abs(row.lat - opr_google.lat) + np.abs(row.lng - opr_google.lng)\n",
    "    index = diff.idxmin()\n",
    "    row = row.append(opr_google.loc[index, keep_columns].rename({'lat': 'lat_google', 'lng': 'lng_google'}))\n",
    "    row['geo_diff'] = diff.loc[index]\n",
    "    return row"
   ]
  },
  {
   "cell_type": "code",
   "execution_count": null,
   "metadata": {
    "scrolled": false
   },
   "outputs": [],
   "source": [
    "opr_matches = opr_geo.apply(match_geolocations, axis=1)\n",
    "opr_matches.head()"
   ]
  },
  {
   "cell_type": "markdown",
   "metadata": {},
   "source": [
    "**Summary of differences**\n"
   ]
  },
  {
   "cell_type": "code",
   "execution_count": null,
   "metadata": {},
   "outputs": [],
   "source": [
    "opr_matches.geo_diff.describe()"
   ]
  },
  {
   "cell_type": "markdown",
   "metadata": {},
   "source": [
    "###  Example of name matches"
   ]
  },
  {
   "cell_type": "code",
   "execution_count": null,
   "metadata": {},
   "outputs": [],
   "source": [
    "opr_matches[['Cliente', 'name', 'formattedAddress', 'outputCountry', 'lat', 'lat_google', 'lng', 'lng_google', 'geo_diff']].sort_values('geo_diff')"
   ]
  }
 ],
 "metadata": {
  "kernelspec": {
   "display_name": "Python [conda env:unilever]",
   "language": "python",
   "name": "conda-env-unilever-py"
  },
  "language_info": {
   "codemirror_mode": {
    "name": "ipython",
    "version": 3
   },
   "file_extension": ".py",
   "mimetype": "text/x-python",
   "name": "python",
   "nbconvert_exporter": "python",
   "pygments_lexer": "ipython3",
   "version": "3.6.4"
  }
 },
 "nbformat": 4,
 "nbformat_minor": 2
}
