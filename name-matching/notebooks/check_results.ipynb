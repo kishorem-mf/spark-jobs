{
 "cells": [
  {
   "cell_type": "markdown",
   "metadata": {},
   "source": [
    "# Results overview\n",
    "\n",
    "This notebooks presents an overview of the results and also checks that the output complies with the following restrictions:\n",
    "\n",
    "- Only one combination of IDs should be in the data (no permutations).\n",
    "- For a similarity = 1 for an specific name all combinations of the unique IDs should be present in the data."
   ]
  },
  {
   "cell_type": "code",
   "execution_count": null,
   "metadata": {},
   "outputs": [],
   "source": [
    "import findspark\n",
    "findspark.init()\n",
    "\n",
    "from pyspark.sql import SparkSession\n",
    "\n",
    "spark = (SparkSession\n",
    "         .builder\n",
    "         .appName(\"NameMatching_Notebook\")\n",
    "#              .config('spark.dynamicAllocation.enabled', False)\n",
    "         .config('spark.executorEnv.PYTHON_EGG_CACHE', '/tmp')\n",
    "#              .config('spark.executor.instances', 4)\n",
    "#              .config('spark.executor.cores', 13)\n",
    "#              .config('spark.executor.memory', '14g')\n",
    "         .config('spark.driver.memory', '7g')\n",
    "         .getOrCreate())\n",
    "sc = spark.sparkContext\n",
    "sc.setLogLevel(\"INFO\")"
   ]
  },
  {
   "cell_type": "code",
   "execution_count": null,
   "metadata": {},
   "outputs": [],
   "source": [
    "from pyspark.sql import functions as sf"
   ]
  },
  {
   "cell_type": "code",
   "execution_count": null,
   "metadata": {},
   "outputs": [],
   "source": [
    "operators_dir = 'adl://ulohubdldevne.azuredatalakestore.net/data/parquet/OPERATORS.parquet'\n",
    "matches_dir = 'adl://ulohubdldevne.azuredatalakestore.net/data/parquet/OPERATORS_MATCHED.parquet'"
   ]
  },
  {
   "cell_type": "markdown",
   "metadata": {},
   "source": [
    "**Load matches found**"
   ]
  },
  {
   "cell_type": "code",
   "execution_count": null,
   "metadata": {},
   "outputs": [],
   "source": [
    "matches = spark.read.parquet(matches_dir)\n",
    "matches.persist()"
   ]
  },
  {
   "cell_type": "markdown",
   "metadata": {},
   "source": [
    "**Load original data**"
   ]
  },
  {
   "cell_type": "code",
   "execution_count": null,
   "metadata": {
    "scrolled": false
   },
   "outputs": [],
   "source": [
    "operators = spark.read.parquet(operators_dir)\n",
    "opersators_count = (operators\n",
    "                    .groupby('COUNTRY_CODE')\n",
    "                    .count()\n",
    "                    .selectExpr(\"COUNTRY_CODE\",\n",
    "                                \"count as nr_operators\"))"
   ]
  },
  {
   "cell_type": "markdown",
   "metadata": {},
   "source": [
    "## Overview"
   ]
  },
  {
   "cell_type": "markdown",
   "metadata": {},
   "source": [
    "**How many matches we have per country?**"
   ]
  },
  {
   "cell_type": "code",
   "execution_count": null,
   "metadata": {},
   "outputs": [],
   "source": [
    "matches_count = (matches\n",
    "                 .groupby('COUNTRY_CODE')\n",
    "                 .count()\n",
    "                 .selectExpr(\"COUNTRY_CODE\",\n",
    "                             \"count as nr_matches\"))"
   ]
  },
  {
   "cell_type": "code",
   "execution_count": null,
   "metadata": {},
   "outputs": [],
   "source": [
    "matches_stats = (matches_count\n",
    "                 .join(opersators_count, on='COUNTRY_CODE', how='outer')\n",
    "                 .select('COUNTRY_CODE', 'nr_operators', 'nr_matches')\n",
    "                 .withColumn('ratio_nr_matches_vs_nr_combinations',\n",
    "                             sf.col('nr_matches') / sf.pow(sf.col('nr_operators'), 2)))"
   ]
  },
  {
   "cell_type": "code",
   "execution_count": null,
   "metadata": {},
   "outputs": [],
   "source": [
    "matches_stats.sort('nr_operators', ascending=False).show(truncate=False)"
   ]
  },
  {
   "cell_type": "markdown",
   "metadata": {
    "collapsed": true
   },
   "source": [
    "**Maximum nr. of matched element per country**"
   ]
  },
  {
   "cell_type": "code",
   "execution_count": null,
   "metadata": {},
   "outputs": [],
   "source": [
    "(matches\n",
    " .groupby(['COUNTRY_CODE', 'SOURCE_ID'])\n",
    " .count()\n",
    " .groupby('COUNTRY_CODE')\n",
    " .agg(sf.max(\"count\").alias(\"count\"))\n",
    " .sort('count', ascending=False)).show(10)"
   ]
  },
  {
   "cell_type": "markdown",
   "metadata": {},
   "source": [
    "**Similarity average per country**"
   ]
  },
  {
   "cell_type": "code",
   "execution_count": null,
   "metadata": {},
   "outputs": [],
   "source": [
    "(matches\n",
    " .groupby('COUNTRY_CODE')\n",
    " .agg(sf.avg('SIMILARITY').alias('AVG_SIMILARITY'))\n",
    " .sort('AVG_SIMILARITY', ascending=True)).show()"
   ]
  },
  {
   "cell_type": "markdown",
   "metadata": {},
   "source": [
    "**What ratio of the matches are a perfect match from the total matches per country**"
   ]
  },
  {
   "cell_type": "code",
   "execution_count": null,
   "metadata": {},
   "outputs": [],
   "source": [
    "perfect_matches_count = (matches\n",
    "                         .filter(sf.col('similarity') >= 1.)\n",
    "                         .groupby('COUNTRY_CODE')\n",
    "                         .count()\n",
    "                         .selectExpr(\"COUNTRY_CODE\", \"count as nr_perfect_matches\"))"
   ]
  },
  {
   "cell_type": "code",
   "execution_count": null,
   "metadata": {},
   "outputs": [],
   "source": [
    "(matches_count\n",
    " .join(perfect_matches_count, on='COUNTRY_CODE')\n",
    " .withColumn('ratio', sf.col('nr_perfect_matches') / sf.col('nr_matches'))\n",
    " .sort('ratio', ascending=False)).show(20)"
   ]
  },
  {
   "cell_type": "markdown",
   "metadata": {},
   "source": [
    "## Restrictions"
   ]
  },
  {
   "cell_type": "code",
   "execution_count": null,
   "metadata": {},
   "outputs": [],
   "source": [
    "from itertools import combinations\n",
    "from pyspark.sql.types import BooleanType, IntegerType"
   ]
  },
  {
   "cell_type": "markdown",
   "metadata": {},
   "source": [
    "**Check that only combinations are in the data (no permutations)**"
   ]
  },
  {
   "cell_type": "code",
   "execution_count": null,
   "metadata": {},
   "outputs": [],
   "source": [
    "repeated_combinations = (matches\n",
    " .filter(sf.concat_ws('-','SOURCE_ID', 'TARGET_ID') == sf.concat_ws('-', 'TARGET_ID', 'SOURCE_ID')))\n",
    "\n",
    "nr_repeated_combinations = repeated_combinations.count()\n",
    "\n",
    "if nr_repeated_combinations:\n",
    "    print(\"Found\", nr_repeated_combinations, 'repeated combinations. This can also be because more than one entry in the data has the same ID, which shouldn not be the case')\n",
    "    repeated_combinations.select('COUNTRY_CODE', 'SOURCE_ID', 'TARGET_ID').show(10, truncate=False)"
   ]
  },
  {
   "cell_type": "markdown",
   "metadata": {},
   "source": [
    "**Check that IDs in column j should be unique**\n",
    "\n",
    "Here we check that an id (`id_j`) belongs to a single group."
   ]
  },
  {
   "cell_type": "code",
   "execution_count": null,
   "metadata": {},
   "outputs": [],
   "source": [
    "matches.count() == matches.drop_duplicates(subset=['TARGET_ID']).count()"
   ]
  },
  {
   "cell_type": "markdown",
   "metadata": {},
   "source": [
    "**Check that groups identifiers `id_i` do not belong to any group**\n",
    "\n",
    "Here we check that the IDs identifying a group (`id_i`) do not appear as a member id (are not in column `id_j`)"
   ]
  },
  {
   "cell_type": "code",
   "execution_count": null,
   "metadata": {},
   "outputs": [],
   "source": [
    "if matches.count() != matches.select('TARGET_ID').subtract(matches.select('SOURCE_ID')).count():\n",
    "    print(\"Found some groups ids (TARGET_ID) as members of a group (SOURCE_ID)\")\n",
    "    matches.selectExpr('TARGET_ID as ID').join(matches.selectExpr('SOURCE_ID as ID'), on='id', how='inner').show(truncate=False)\n",
    "else:\n",
    "    print('No group ids (TARGET_ID) found as a member of a group (SOURCE_ID)')"
   ]
  },
  {
   "cell_type": "markdown",
   "metadata": {},
   "source": [
    "**Check that for exact matches all the combinations appear**\n",
    "\n",
    "NOTE: This test applies only for ungrouped data"
   ]
  },
  {
   "cell_type": "code",
   "execution_count": null,
   "metadata": {},
   "outputs": [],
   "source": [
    "perfect_matches = matches[matches['SOURCE_NAME'] == matches['TARGET_NAME']]"
   ]
  },
  {
   "cell_type": "code",
   "execution_count": null,
   "metadata": {},
   "outputs": [],
   "source": [
    "def check_combinations(combs):\n",
    "    nr_data_combinations = len(combs)\n",
    "    unique_ids = set(_id for sublist in [item.split('<separator>') for item in combs] for _id in sublist)\n",
    "    nr_possible_combinations = len(list(combinations(unique_ids, 2)))\n",
    "    return int(nr_possible_combinations != nr_data_combinations)\n",
    "\n",
    "def nr_unique_ids(combs):\n",
    "    nr_data_combinations = len(combs)\n",
    "    unique_ids = set(_id for sublist in [item.split('<separator>') for item in combs] for _id in sublist)\n",
    "    return len(unique_ids)\n",
    "\n",
    "def nr_combinations(combs):\n",
    "    return len(combs)\n",
    "\n",
    "udf_check_combinations = sf.udf(check_combinations, IntegerType())\n",
    "udf_nr_combinations = sf.udf(nr_combinations, IntegerType())\n",
    "udf_nr_unique_ids = sf.udf(nr_unique_ids, IntegerType())"
   ]
  },
  {
   "cell_type": "code",
   "execution_count": null,
   "metadata": {
    "scrolled": false
   },
   "outputs": [],
   "source": [
    "grouped_perfect_matches = (perfect_matches\n",
    " .groupby('COUNTRY_CODE', 'SOURCE_NAME')\n",
    " .agg(sf.collect_list(sf.concat('SOURCE_ID', sf.lit('<separator>'), 'TARGET_ID')).alias('IDs'))\n",
    " .withColumn('fail_test', udf_check_combinations('IDs'))\n",
    " .withColumn('nr_combinations', udf_nr_combinations('IDs'))\n",
    " .withColumn('unique_ids', udf_nr_unique_ids('IDs'))                     \n",
    " .sort('fail_test', ascending=False))"
   ]
  },
  {
   "cell_type": "code",
   "execution_count": null,
   "metadata": {},
   "outputs": [],
   "source": [
    "failed_test = grouped_perfect_matches[grouped_perfect_matches['fail_test'] == 1]\n",
    "failed_test.show(5)"
   ]
  },
  {
   "cell_type": "code",
   "execution_count": null,
   "metadata": {
    "scrolled": false
   },
   "outputs": [],
   "source": [
    "(failed_test.where((sf.size(sf.split('SOURCE_NAME', '')) < 300) &\n",
    "                   (sf.col('COUNTRY_CODE') == 'US'))\n",
    " .select('SOURCE_NAME', 'nr_combinations', 'unique_ids')\n",
    " .show(truncate=False))"
   ]
  },
  {
   "cell_type": "code",
   "execution_count": null,
   "metadata": {},
   "outputs": [],
   "source": [
    "(matches[(matches['COUNTRY_CODE'] == 'US') &\n",
    "         (matches['SOURCE_NAME'] == '9ten restaurant newyork 7th ave910 10019') &\n",
    "         (matches['TARGET_NAME'] == '9ten restaurant newyork 7th ave910 10019') &\n",
    "         (matches['SIMILARITY'] >= .8)]\n",
    " .select('SOURCE_ID', 'TARGET_ID', 'SOURCE_NAME')\n",
    " .show(truncate=False))"
   ]
  },
  {
   "cell_type": "code",
   "execution_count": null,
   "metadata": {},
   "outputs": [],
   "source": [
    "matches[matches['SOURCE_NAME'] == 'business name city 21 12345'].show()"
   ]
  },
  {
   "cell_type": "code",
   "execution_count": null,
   "metadata": {},
   "outputs": [],
   "source": [
    "grouped_perfect_matches.select('SOURCE_NAME', 'fail_test', 'nr_combinations', 'unique_ids').show(truncate=False)"
   ]
  },
  {
   "cell_type": "markdown",
   "metadata": {},
   "source": [
    "**per country**"
   ]
  },
  {
   "cell_type": "code",
   "execution_count": null,
   "metadata": {},
   "outputs": [],
   "source": [
    "(grouped_perfect_matches\n",
    " .groupby('COUNTRY_CODE')\n",
    " .agg(sf.sum('fail_test').alias('fail_test'))\n",
    " .sort('fail_test', ascending=False)).show()"
   ]
  },
  {
   "cell_type": "code",
   "execution_count": null,
   "metadata": {},
   "outputs": [],
   "source": []
  }
 ],
 "metadata": {
  "anaconda-cloud": {},
  "kernelspec": {
   "display_name": "Python [default]",
   "language": "python",
   "name": "python3"
  },
  "language_info": {
   "codemirror_mode": {
    "name": "ipython",
    "version": 3
   },
   "file_extension": ".py",
   "mimetype": "text/x-python",
   "name": "python",
   "nbconvert_exporter": "python",
   "pygments_lexer": "ipython3",
   "version": "3.6.4"
  }
 },
 "nbformat": 4,
 "nbformat_minor": 1
}
